{
 "cells": [
  {
   "cell_type": "code",
   "execution_count": null,
   "metadata": {},
   "outputs": [],
   "source": [
    "import numpy as np \n",
    "import pandas as pd\n",
    "import matplotlib.pyplot as plt\n",
    "import seaborn as sns"
   ]
  },
  {
   "cell_type": "code",
   "execution_count": null,
   "metadata": {},
   "outputs": [],
   "source": [
    "def get_labels(language):\n",
    "    train_filepath = \"labeled_data/{}_train_4-14.csv\".format(language)\n",
    "    val_filepath = \"labeled_data/{}_val_4-14.csv\".format(language)\n",
    "    test_filepath = \"labeled_data/{}_test_4-14.csv\".format(language)\n",
    "    train_labels = pd.read_csv(train_filepath)[\"labels\"]\n",
    "    val_labels = pd.read_csv(val_filepath)[\"labels\"]\n",
    "    test_labels = pd.read_csv(test_filepath)[\"labels\"]\n",
    "    all_labels = np.concatenate([train_labels, val_labels, test_labels])\n",
    "    all_labels = all_labels - 2\n",
    "    print(\"mean: \", np.mean(all_labels))   \n",
    "    return all_labels.tolist()\n",
    "\n",
    "en_data = get_labels(\"english\")\n",
    "es_data = get_labels(\"spanish\")\n",
    "ja_data = get_labels(\"japanese\")\n",
    "zh_data = get_labels(\"chinese\")\n"
   ]
  },
  {
   "cell_type": "code",
   "execution_count": null,
   "metadata": {},
   "outputs": [],
   "source": [
    "#whitegrid style\n",
    "sns.set(font='serif', style='whitegrid', palette='muted')\n",
    "\n",
    "fig, ax = plt.subplots(figsize=(6,5))\n",
    "#represent median with line and mean with diamond\n",
    "ax.violinplot([en_data, es_data, ja_data, zh_data], showextrema=True, widths=0.8, bw_method=0.25)\n",
    "ax.xaxis.set_ticks([1, 2, 3, 4])\n",
    "ax.set_xticklabels([\"English\", \"Spanish\", \"Japanese\", \"Chinese\"], fontsize=16)\n",
    "ax.set_ylabel(\"Annotated Politeness Score\", fontsize=16)\n",
    "ax.set_title(\"Politeness Distribution per Language\", fontsize=20)\n",
    "\n",
    "#set y range\n",
    "ax.set_ylim([-2.25, 3])\n",
    "ax.set_yticks([-2, -1.5, -1, -0.5, 0, 0.5, 1, 1.5, 2])\n",
    "\n",
    "#make y ticks larger\n",
    "ax.tick_params(axis='y', labelsize=14)\n",
    "\n",
    "#plot means and medians\n",
    "medians = [np.median(en_data), np.median(es_data), np.median(ja_data), np.median(zh_data)]\n",
    "means = [np.mean(en_data), np.mean(es_data), np.mean(ja_data), np.mean(zh_data)]\n",
    "for i in range(4):\n",
    "    #plot black dots\n",
    "    ax.scatter(i+1, means[i], marker='D', color='b' , s=80, zorder=2)\n",
    "    ax.plot([i+1-0.2, i+1+0.2], [medians[i], medians[i]], color='b', linewidth=2, zorder=2)\n",
    "ax.legend(labels=['Mean', 'Median'], \n",
    "          #padding\n",
    "            bbox_to_anchor=(1.01, 1.01),\n",
    "          loc='upper right', \n",
    "          handles=[plt.Line2D([0], [0], color='b', marker='D', linestyle='None'), plt.Line2D([0], [0], color='b', linestyle='-', linewidth=2)],\n",
    "          fontsize=14)\n",
    "plt.show()"
   ]
  }
 ],
 "metadata": {
  "kernelspec": {
   "display_name": "politeness",
   "language": "python",
   "name": "python3"
  },
  "language_info": {
   "codemirror_mode": {
    "name": "ipython",
    "version": 3
   },
   "file_extension": ".py",
   "mimetype": "text/x-python",
   "name": "python",
   "nbconvert_exporter": "python",
   "pygments_lexer": "ipython3",
   "version": "3.8.16"
  },
  "orig_nbformat": 4
 },
 "nbformat": 4,
 "nbformat_minor": 2
}
