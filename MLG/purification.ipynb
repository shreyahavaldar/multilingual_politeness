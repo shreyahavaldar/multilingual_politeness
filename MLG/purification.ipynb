{
 "cells": [
  {
   "cell_type": "code",
   "execution_count": 23,
   "metadata": {},
   "outputs": [],
   "source": [
    "import numpy as np \n",
    "import pandas as pd\n",
    "import matplotlib.pyplot as plt\n",
    "import csv\n",
    "from tqdm import tqdm\n",
    "import argparse\n",
    "import time, sys\n",
    "import re\n",
    "import pickle\n",
    "from sqlalchemy import create_engine"
   ]
  },
  {
   "cell_type": "code",
   "execution_count": 24,
   "metadata": {},
   "outputs": [],
   "source": [
    "def load_data():\n",
    "    con = create_engine('mysql://127.0.0.1/wikipedia_talk?read_default_file=~/.my.cnf&charset=utf8')\n",
    "\n",
    "    en_full = pd.read_sql('select * from msgs_en_turns', con)\n",
    "    es_full = pd.read_sql('select * from msgs_es_turns_trans', con)\n",
    "    ja_full = pd.read_sql('select * from msgs_ja_turns_trans', con)\n",
    "    zh_full = pd.read_sql('select * from msgs_zh_turns_trans', con)\n",
    "    \n",
    "    return en_full, es_full, ja_full, zh_full\n",
    "\n",
    "def load_lexica():\n",
    "    en_lex = pd.read_csv('Lexica/english_politelex.csv')\n",
    "    es_lex = pd.read_csv('Expansion_Files/spanish_politelex_expanded.csv')\n",
    "    ja_lex = pd.read_csv('Expansion_Files/japanese_politelex_expanded.csv')\n",
    "    zh_lex = pd.read_csv('Lexica/chinese_politelex.csv')\n",
    "    return en_lex, es_lex, ja_lex, zh_lex\n",
    "\n",
    "en_full, es_full, ja_full, zh_full = load_data()\n",
    "en_lex, es_lex, ja_lex, zh_lex = load_lexica()"
   ]
  },
  {
   "cell_type": "code",
   "execution_count": null,
   "metadata": {},
   "outputs": [],
   "source": [
    "def process_words(words):\n",
    "    to_remove = [\"1\", \"2\", \"3\", \"4\", \"5\", \"6\", \"7\", \"8\", \"9\", \"0\", \"(\", \")\", \",\", \".\", \"-\", \"?\", \"!\", \"\\\\\", \"/\"]\n",
    "    processed_words = []\n",
    "    for w in words:\n",
    "        for r in to_remove:\n",
    "            w = w.replace(r, \"\")\n",
    "        processed_words.append(w.lower())\n",
    "    return np.unique(processed_words).tolist()\n",
    "\n",
    "def get_strategy_counts(messages, words):\n",
    "    strategy_counts = []\n",
    "    for message in messages:\n",
    "        curr_count = 0\n",
    "        for w in words:\n",
    "            word_count = message.count(w)\n",
    "            curr_count += word_count\n",
    "        strategy_counts.append(curr_count)\n",
    "    return strategy_counts\n",
    "\n",
    "def get_word_counts(messages, word):\n",
    "    word_counts = []\n",
    "    for message in messages:\n",
    "        count = message.count(word)\n",
    "        word_counts.append(count)\n",
    "    return word_counts\n",
    "\n",
    "def purify_lexica(lexica_df, messages_df):\n",
    "    categories = lexica_df[\"CATEGORY\"].unique().tolist()\n",
    "    messages = messages_df[\"turn\"].tolist()\n",
    "    messages = [m.lower() for m in messages if m is not None]\n",
    "    \n",
    "    final_lexica = {c:[] for c in categories}\n",
    "\n",
    "    for category in categories:\n",
    "        print(category)\n",
    "        cat_words = lexica_df[lexica_df[\"CATEGORY\"] == category][\"word\"].tolist()\n",
    "        cat_words = process_words(cat_words)\n",
    "        category_counts = get_strategy_counts(messages, cat_words)\n",
    "        for word in cat_words:\n",
    "            word_counts = get_word_counts(messages, word)\n",
    "            print(word, np.corrcoef(category_counts, word_counts)[0,1])\n",
    "            if(np.corrcoef(category_counts, word_counts)[0,1] > 0.15):\n",
    "                final_lexica[category].append(word)\n",
    "    return final_lexica"
   ]
  },
  {
   "cell_type": "code",
   "execution_count": null,
   "metadata": {},
   "outputs": [],
   "source": [
    "es_purified = purify_lexica(es_lex, es_full)\n",
    "ja_purified = purify_lexica(ja_lex, ja_full)"
   ]
  }
 ],
 "metadata": {
  "kernelspec": {
   "display_name": "politeness",
   "language": "python",
   "name": "python3"
  },
  "language_info": {
   "codemirror_mode": {
    "name": "ipython",
    "version": 3
   },
   "file_extension": ".py",
   "mimetype": "text/x-python",
   "name": "python",
   "nbconvert_exporter": "python",
   "pygments_lexer": "ipython3",
   "version": "3.8.16"
  },
  "orig_nbformat": 4
 },
 "nbformat": 4,
 "nbformat_minor": 2
}
